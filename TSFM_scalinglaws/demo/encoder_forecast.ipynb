{
 "cells": [
  {
   "cell_type": "code",
   "execution_count": 1,
   "metadata": {},
   "outputs": [],
   "source": [
    "import sys\n",
    "sys.path.append('..')\n",
    "from tsfm.model.encoder import TransformerEncoderForecast, TransformerEncoderPretrain\n",
    "from tsfm.eval_util.data import get_gluonts_test_dataset\n",
    "from tsfm.eval_util.plot import plot_single"
   ]
  },
  {
   "cell_type": "code",
   "execution_count": null,
   "metadata": {},
   "outputs": [],
   "source": [
    "import huggingface_hub\n",
    "huggingface_hub.login(token=\"\") # replace with your token that can access to the repo\n",
    "huggingface_hub.hf_hub_download(repo_id='PeacefulData/TSFM-ScalingLaws-Checkpoints', filename='encoder_30M_16B.ckpt', local_dir='./')"
   ]
  },
  {
   "cell_type": "code",
   "execution_count": 3,
   "metadata": {},
   "outputs": [],
   "source": [
    "test_data, metadata = get_gluonts_test_dataset('us_births')\n",
    "\n",
    "pretrained_model = TransformerEncoderPretrain.load_from_checkpoint('encoder_30M_16B.ckpt')\n",
    "model = TransformerEncoderForecast(\n",
    "    module=pretrained_model.module,\n",
    "    prediction_length=metadata.prediction_length,\n",
    "    context_length=1000,\n",
    "    patch_size=32,\n",
    "    num_samples=1000,\n",
    "    target_dim=1,\n",
    "    feat_dynamic_real_dim=0,\n",
    "    past_feat_dynamic_real_dim=0,\n",
    ")\n",
    "predictor = model.create_predictor(batch_size=1)"
   ]
  },
  {
   "cell_type": "code",
   "execution_count": 4,
   "metadata": {},
   "outputs": [],
   "source": [
    "forecasts = predictor.predict(test_data.input)"
   ]
  },
  {
   "cell_type": "code",
   "execution_count": 5,
   "metadata": {},
   "outputs": [],
   "source": [
    "input_iter, label_iter, forecast_iter = iter(test_data.input), iter(test_data.label), iter(forecasts)"
   ]
  },
  {
   "cell_type": "code",
   "execution_count": 7,
   "metadata": {},
   "outputs": [],
   "source": [
    "inp = next(input_iter)\n",
    "label = next(label_iter)\n",
    "forecast = next(forecast_iter)"
   ]
  },
  {
   "cell_type": "code",
   "execution_count": null,
   "metadata": {},
   "outputs": [],
   "source": [
    "plot_single(\n",
    "    inp, \n",
    "    label, \n",
    "    forecast, \n",
    "    context_length=100,\n",
    "    name=\"pred\",\n",
    "    show_label=True,\n",
    ")"
   ]
  }
 ],
 "metadata": {
  "kernelspec": {
   "display_name": "torch2.1",
   "language": "python",
   "name": "python3"
  },
  "language_info": {
   "codemirror_mode": {
    "name": "ipython",
    "version": 3
   },
   "file_extension": ".py",
   "mimetype": "text/x-python",
   "name": "python",
   "nbconvert_exporter": "python",
   "pygments_lexer": "ipython3",
   "version": "3.10.14"
  }
 },
 "nbformat": 4,
 "nbformat_minor": 2
}
